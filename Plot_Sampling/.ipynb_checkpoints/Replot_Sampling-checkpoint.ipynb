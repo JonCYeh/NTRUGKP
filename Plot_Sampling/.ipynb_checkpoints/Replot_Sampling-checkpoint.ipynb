{
 "cells": [
  {
   "cell_type": "code",
   "execution_count": 1,
   "metadata": {},
   "outputs": [],
   "source": [
    "import numpy as np\n"
   ]
  },
  {
   "cell_type": "code",
   "execution_count": 3,
   "metadata": {},
   "outputs": [],
   "source": [
    "folder_cyclic=\"../Numerics/Sampling_Cyclic\"\n",
    "folder_noinv=\"../Numerics/Sampling_noinv_p\"\n",
    "folder_hinv=\"../Numerics/Sampling_hinv_p\"\n",
    "folder_DGS=\"../Numerics/Sampling_DGS_new\"\n",
    "\n",
    "\n",
    "\n",
    "qs=[2**i for i in range(2,11,2)]\n",
    "qs_DGS=[167,367, 509,1021, 2027]"
   ]
  },
  {
   "cell_type": "code",
   "execution_count": 24,
   "metadata": {},
   "outputs": [
    {
     "name": "stdout",
     "output_type": "stream",
     "text": [
      "[[ 2.          1.41421356]\n",
      " [ 2.          1.41421356]\n",
      " [ 2.          1.41421356]\n",
      " ...\n",
      " [24.          3.74165739]\n",
      " [24.          3.46410162]\n",
      " [24.          3.74165739]]\n",
      "[[ 2.          1.41421356]\n",
      " [ 2.          2.82842712]\n",
      " [ 2.          2.        ]\n",
      " ...\n",
      " [24.          7.48331477]\n",
      " [24.          4.89897949]\n",
      " [24.          7.61577311]]\n",
      "[[ 2.          6.244998  ]\n",
      " [ 2.          7.34846923]\n",
      " [ 2.          4.        ]\n",
      " ...\n",
      " [24.         14.83239697]\n",
      " [24.          6.92820323]\n",
      " [24.         14.69693846]]\n",
      "[[ 2.          8.        ]\n",
      " [ 2.         14.56021978]\n",
      " [ 2.         10.19803903]\n",
      " ...\n",
      " [24.         28.35489376]\n",
      " [24.         15.49193338]\n",
      " [24.         28.28427125]]\n",
      "[[ 2.         24.53568829]\n",
      " [ 2.         14.4222051 ]\n",
      " [ 2.         15.03329638]\n",
      " ...\n",
      " [24.         60.01666435]\n",
      " [24.         40.39801975]\n",
      " [24.         35.77708764]]\n"
     ]
    }
   ],
   "source": [
    "ftsize=16\n",
    "for q in qs:\n",
    "    filename_cyclic=\"%s/Cyclic_samples_HKZlambda_q%i.txt\"%(folder_cyclic,q)\n",
    "    data=np.genfromtxt(filename_cyclic)\n",
    "    print(data)\n",
    "    \n",
    "    distr=data\n",
    "    nmax=distr[-1][0]\n",
    "    \n",
    "    gp=scatter_plot(distr, alpha=0.5, markersize=10, axes_labels=[r'$n$', r'$\\lambda_1$'])\n",
    "    gp=gp+plot(sqrt(x*q/(pi*e)), (x,0,nmax))\n",
    "    #gp=gp+plot(sqrt(0.28*x), (x,0,nmax), color='red')\n",
    "    #gp=gp+plot(q^(1/(2))/sqrt(x), color='green')\n",
    "    \n",
    "    gp.fontsize(ftsize)\n",
    "    #gp.show()\n",
    "    gp.save(\"%s/Cyclic_samples_HKZlambda_q%i.pdf\"%(folder_cyclic,q))\n",
    "    \n",
    "    \n",
    "    \n",
    "    \n",
    "    filename_noinv=\"%s/NTRU_lambda_samples_noinv_pub_HKZlambda_q%i.txt\"%(folder_noinv,q)\n",
    "    data=np.genfromtxt(filename_noinv)\n",
    "    #print(data)\n",
    "    \n",
    "    distr=data\n",
    "    nmax=distr[-1][0]\n",
    "    \n",
    "    gp=scatter_plot(distr, alpha=0.5, markersize=10, axes_labels=[r'$n$', r'$\\lambda_1$'])\n",
    "    gp=gp+plot(sqrt(x*q/(pi*e)), (x,0,nmax))\n",
    "    gp=gp+plot(sqrt(0.28*x), (x,0,nmax), color='red')\n",
    "    #gp=gp+plot(q^(1/(2))/sqrt(x), color='green')\n",
    "    \n",
    "    gp.fontsize(ftsize)\n",
    "    #gp.show()\n",
    "    gp.save(\"%s/NTRU_samples_noinv_pub_HKZlambda_q%i.pdf\"%(folder_noinv,q))\n",
    "    \n",
    "    \n",
    "    \n",
    "    \n",
    "    filename_hinv=\"%s/NTRU_lambda_samples_hinv_pub_HKZlambda_q%i.txt\"%(folder_hinv,q)\n",
    "    data=np.genfromtxt(filename_hinv)\n",
    "    #print(data)\n",
    "    \n",
    "    distr=data\n",
    "    nmax=distr[-1][0]\n",
    "    \n",
    "    gp=scatter_plot(distr, alpha=0.5, markersize=10, axes_labels=[r'$n$', r'$\\lambda_1$'])\n",
    "    gp=gp+plot(sqrt(x*q/(pi*e)), (x,0,nmax))\n",
    "    gp=gp+plot(sqrt(0.28*x), (x,0,nmax), color='red')\n",
    "    #gp=gp+plot(q^(1/(2))/sqrt(x), color='green')\n",
    "    \n",
    "    gp.fontsize(ftsize)\n",
    "    #gp.show()\n",
    "    gp.save(\"%s/NTRU_samples_hinv_pub_HKZlambda_q%i.pdf\"%(folder_hinv,q))\n",
    "    \n",
    "    \n",
    "    \n",
    "    "
   ]
  },
  {
   "cell_type": "code",
   "execution_count": 6,
   "metadata": {},
   "outputs": [
    {
     "ename": "NameError",
     "evalue": "name 'np' is not defined",
     "output_type": "error",
     "traceback": [
      "\u001b[0;31m---------------------------------------------------------------------------\u001b[0m",
      "\u001b[0;31mNameError\u001b[0m                                 Traceback (most recent call last)",
      "\u001b[0;32m/var/folders/0j/7p8yhkx15kg5hmphxkhvrmr00000gn/T/ipykernel_1281/564272447.py\u001b[0m in \u001b[0;36m<module>\u001b[0;34m\u001b[0m\n\u001b[1;32m      2\u001b[0m \u001b[0;32mfor\u001b[0m \u001b[0mq\u001b[0m \u001b[0;32min\u001b[0m \u001b[0mqs_DGS\u001b[0m\u001b[0;34m:\u001b[0m\u001b[0;34m\u001b[0m\u001b[0;34m\u001b[0m\u001b[0m\n\u001b[1;32m      3\u001b[0m     \u001b[0mfilename_DGS\u001b[0m\u001b[0;34m=\u001b[0m\u001b[0;34m\"%s/NTRU_lambda_samples_DGS_c0.00_HKZlambda_q%i.txt\"\u001b[0m\u001b[0;34m%\u001b[0m\u001b[0;34m(\u001b[0m\u001b[0mfolder_DGS\u001b[0m\u001b[0;34m,\u001b[0m\u001b[0mq\u001b[0m\u001b[0;34m)\u001b[0m\u001b[0;34m\u001b[0m\u001b[0;34m\u001b[0m\u001b[0m\n\u001b[0;32m----> 4\u001b[0;31m     \u001b[0mdata\u001b[0m\u001b[0;34m=\u001b[0m\u001b[0mnp\u001b[0m\u001b[0;34m.\u001b[0m\u001b[0mgenfromtxt\u001b[0m\u001b[0;34m(\u001b[0m\u001b[0mfilename_DGS\u001b[0m\u001b[0;34m)\u001b[0m\u001b[0;34m\u001b[0m\u001b[0;34m\u001b[0m\u001b[0m\n\u001b[0m\u001b[1;32m      5\u001b[0m     \u001b[0;31m#print(data)\u001b[0m\u001b[0;34m\u001b[0m\u001b[0;34m\u001b[0m\u001b[0m\n\u001b[1;32m      6\u001b[0m \u001b[0;34m\u001b[0m\u001b[0m\n",
      "\u001b[0;31mNameError\u001b[0m: name 'np' is not defined"
     ]
    }
   ],
   "source": [
    "ftsize=16\n",
    "for q in qs_DGS:\n",
    "    filename_DGS=\"%s/NTRU_lambda_samples_DGS_c0.00_HKZlambda_q%i.txt\"%(folder_DGS,q)\n",
    "    data=np.genfromtxt(filename_DGS)\n",
    "    #print(data)\n",
    "    \n",
    "    distr=data\n",
    "    nmax=distr[-1][0]\n",
    "    \n",
    "    gp=scatter_plot(distr, alpha=0.5, markersize=10, axes_labels=[r'$n$', r'$\\lambda_1$'])\n",
    "    gp=gp+plot(sqrt(x*q/(pi*e)), (x,0,nmax))\n",
    "    gp=gp+plot(sqrt(0.28*x), (x,0,nmax), color='red')\n",
    "    gp=gp+plot(q^(1/(2)), color='green')\n",
    "    \n",
    "    gp.fontsize(ftsize)\n",
    "    #gp.show()\n",
    "    gp.save(\"%s/NTRU_lambda_samples_DGS_c0.00_HKZlambda_q%i.pdf\"%(folder_DGS,q))"
   ]
  },
  {
   "cell_type": "code",
   "execution_count": null,
   "metadata": {},
   "outputs": [],
   "source": []
  }
 ],
 "metadata": {
  "kernelspec": {
   "display_name": "SageMath 9.6",
   "language": "sage",
   "name": "sagemath-9.6"
  },
  "language_info": {
   "codemirror_mode": {
    "name": "ipython",
    "version": 3
   },
   "file_extension": ".py",
   "mimetype": "text/x-python",
   "name": "python",
   "nbconvert_exporter": "python",
   "pygments_lexer": "ipython3",
   "version": "3.10.3"
  }
 },
 "nbformat": 4,
 "nbformat_minor": 4
}
