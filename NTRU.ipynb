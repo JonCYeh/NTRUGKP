{
 "cells": [
  {
   "cell_type": "raw",
   "id": "a014dc1b",
   "metadata": {},
   "source": [
    "functions for NTRU from https://latticehacks.cr.yp.to/ntru.html"
   ]
  },
  {
   "cell_type": "code",
   "execution_count": 8,
   "id": "dde59d1a",
   "metadata": {},
   "outputs": [
    {
     "name": "stdout",
     "output_type": "stream",
     "text": [
      "n,d= 53 29\n",
      "0\n",
      "SUCCESS\n",
      "1\n",
      "SUCCESS\n",
      "2\n",
      "SUCCESS\n",
      "3\n",
      "SUCCESS\n",
      "4\n",
      "SUCCESS\n",
      "5\n",
      "SUCCESS\n",
      "6\n",
      "SUCCESS\n",
      "7\n",
      "SUCCESS\n",
      "8\n",
      "SUCCESS\n",
      "9\n",
      "SUCCESS\n",
      "opt_l=113.384\n",
      "n,d= 53 29 DONE\n",
      "n,d= 97 53\n",
      "0\n",
      "SUCCESS\n",
      "1\n",
      "SUCCESS\n",
      "2\n",
      "SUCCESS\n",
      "3\n",
      "SUCCESS\n",
      "4\n",
      "SUCCESS\n",
      "5\n",
      "SUCCESS\n",
      "6\n",
      "SUCCESS\n",
      "7\n",
      "SUCCESS\n",
      "8\n",
      "SUCCESS\n",
      "9\n",
      "SUCCESS\n",
      "opt_l=215.286\n",
      "n,d= 97 53 DONE\n"
     ]
    }
   ],
   "source": [
    "Zx.<x> = ZZ[]\n",
    "def convolution(f,g,n):\n",
    "      return (f * g) % (x^n-1)\n",
    "\n",
    "def balancedmod(f,q,n):\n",
    "    g = list(((f[i] + q//2) % q) - q//2 for i in range(n))\n",
    "    return Zx(g)\n",
    "\n",
    "def balancedmod_ar(ar,q):\n",
    "    return (ar+q/2)%q-q/2\n",
    "\n",
    "def rbalancedmod_ar(ar,q):\n",
    "    return (ar+q//2)%q-q//2\n",
    "\n",
    "\n",
    "\n",
    "def randomdpoly(n,d):\n",
    "    assert d <= n\n",
    "    result = n*[0]\n",
    "    for j in range(d):\n",
    "        while True:\n",
    "            r = randrange(n)\n",
    "            #print(r)\n",
    "            if not result[r]: break\n",
    "        result[r] = 1-2*randrange(2)\n",
    "    return Zx(result)\n",
    "\n",
    "\n",
    "def randomdpolyq(n,d,q):\n",
    "    assert d<=n\n",
    "    assert q%2==0\n",
    "    \n",
    "    result=n*[0]\n",
    "    \n",
    "    for j in range(d):\n",
    "        result[j]= q/2-randrange(q)-1\n",
    "        \n",
    "    p = Permutations(len(result)).random_element() \n",
    "    result_rand = [result[p[i]-1] for i in range(len(result))]\n",
    "    out=Zx(result_rand)\n",
    "    \n",
    "    return out\n",
    "\n",
    "\n",
    "\n",
    "def invertmodprime(f,p,n):\n",
    "    T = Zx.change_ring(Integers(p)).quotient(x^n-1)\n",
    "    return Zx(lift(1 / T(f)))\n",
    "\n",
    "\n",
    "\n",
    "def invertmodpowerof2(f,q,n):\n",
    "    assert q.is_power_of(2)\n",
    "    g = invertmodprime(f,2,n)\n",
    "    while True:\n",
    "        r = balancedmod(convolution(g,f,n),q,n)\n",
    "        if r == 1: return g\n",
    "        g = balancedmod(convolution(g,2 - r,n),q,n)\n",
    "            \n",
    "        \n",
    "\n",
    "def keypair(n,d,q):\n",
    "    while True:\n",
    "        try:\n",
    "            f = randomdpoly(n,d)\n",
    "            f3 = invertmodprime(f,3,n)\n",
    "            fq = invertmodpowerof2(f,q,n)\n",
    "            break\n",
    "        except:\n",
    "            pass\n",
    "    g = randomdpoly(n,d)\n",
    "    #print(g)\n",
    "    publickey = balancedmod(3 * convolution(fq,g,n),q,n)\n",
    "    secretkey = f,f3\n",
    "    return publickey,secretkey\n",
    "\n",
    "\n",
    "def randommessage(n):\n",
    "    result = list(randrange(3)-1 for j in range(n))\n",
    "    return Zx(result)\n",
    "\n",
    "def encrypt(message,publickey,n,d):\n",
    "    r = randomdpoly(n,d)\n",
    "    return balancedmod(convolution(publickey,r,n) + message,q,n)\n",
    "\n",
    "def decrypt(ciphertext,secretkey):\n",
    "    f,f3 = secretkey\n",
    "    a = balancedmod(convolution(ciphertext,f,n),q,n)\n",
    "    return balancedmod(convolution(a,f3,n),3,n)\n",
    "\n",
    "\n",
    "import numpy as np\n",
    "\n",
    "def T(f):\n",
    "    temp=np.zeros((len(f), len(f)))\n",
    "    for i in range(len(f)):\n",
    "        temp[i]=np.roll(f,i)\n",
    "        \n",
    "    return temp\n",
    "\n",
    "def That(f):\n",
    "    temp=np.zeros((len(f), len(f)))\n",
    "    for i in range(len(f)):\n",
    "        temp[i]=np.roll(f,-i)\n",
    "        \n",
    "    return temp\n",
    "\n",
    "def sigma(f):\n",
    "    temp=np.zeros(len(f))\n",
    "    temp[0]=f[0]\n",
    "    temp[1:]=f[1:][::-1]\n",
    "    \n",
    "    return temp\n",
    "\n",
    "def Tsigma(f):\n",
    "    temp=np.zeros((len(f), len(f)))\n",
    "    for i in range(len(f)):\n",
    "        temp[i]=sigma(np.roll(f,i))\n",
    "    \n",
    "    return temp\n",
    "\n",
    "def sec_basis(f,g,q,n,l):\n",
    "    f_sigma=Tsigma(f)\n",
    "    Tg=T(g)\n",
    "    return np.sqrt(l/q)*np.block([[f_sigma,Tg]])#,[np.zeros((n,n)), q*np.eye(n)]])\n",
    "    \n",
    "\n",
    "def mat_keypair(n,d,q,p):\n",
    "    for i in range(int(1e7)):\n",
    "        try:\n",
    "            f=1+p*randomdpoly(n,d-1)\n",
    "            fq=invertmodpowerof2(f,q,n)\n",
    "            g = p*randomdpoly(n,d)\n",
    "            publickey = balancedmod(convolution(fq,g,n),q,n)\n",
    "            \n",
    "            public_inv=invertmodpowerof2(publickey,q,n)\n",
    "            print(\"SUCCESS\")\n",
    "            break\n",
    "        except:\n",
    "            pass\n",
    "    \n",
    "    \n",
    "    h=np.asarray([publickey[i] for i in range(n)])\n",
    "    h_inv=np.asarray([public_inv[i] for i in range(n)])\n",
    "    f_vec=np.asarray([f[i] for i in range(n)])\n",
    "    g_vec=np.asarray([g[i] for i in range(n)])\n",
    "    \n",
    "    pk=That(h)\n",
    "    sk=Tsigma(f_vec)\n",
    "    pk_inv=Tsigma(h_inv)\n",
    "    \n",
    "\n",
    "    \n",
    "    return h,h_inv,f_vec, g_vec\n",
    "\n",
    "\n",
    "def pub_basis(pk,q,n, l):\n",
    "    return np.sqrt(l/q)*np.block([[np.eye(n),pk],[np.zeros((n,n)), q*np.eye(n)]])\n",
    "\n",
    "\n",
    "def randomstring(n):\n",
    "    return 1-np.random.randint(3,size=n)\n",
    "\n",
    "def cipher(m,r,pk,n,q):\n",
    "    return balancedmod_ar(m+pk@r,q)\n",
    "\n",
    "\n",
    "def Jsym(n):\n",
    "    J1=np.asarray([[0,1],[-1,0]])\n",
    "    J=np.kron(J1,np.eye(n))\n",
    "    return J\n",
    "\n",
    "def NTRUlattice(publickey,n,d,q,p):\n",
    "    #n,d,q=n,d,q\n",
    "    #publickey,secretkey = keypair(n,d,q)\n",
    "    recipp = lift(1/Integers(q)(p))\n",
    "    publickeyoverp = balancedmod(recipp * publickey,q,n)\n",
    "    \n",
    "    M = matrix(2 * n)\n",
    "    for i in range(n,2*n):\n",
    "        M[i,i] = q\n",
    "    for i in range(n):\n",
    "        M[i,i] = 1\n",
    "        c = convolution(x^(n-i),publickeyoverp,n)\n",
    "        for j in range(n):\n",
    "            M[i,j+n] = c[j]\n",
    "    \n",
    "    return M\n",
    "\n",
    "\n",
    "from sage.modules.free_module_integer import IntegerLattice\n",
    "\n",
    "def NTRU_len(publickey,n,d,q,p):\n",
    "    M=NTRUlattice(publickey,n,d,q,p)\n",
    "    L=IntegerLattice(M)\n",
    "    \n",
    "    SVP=L.shortest_vector()#algorithm=\"pari\")\n",
    "    \n",
    "    return SVP.norm().n()\n",
    "\n",
    "def NTRU_len(publickey,n,d,q,p):\n",
    "    M=NTRUlattice(publickey,n,d,q,p)\n",
    "    L=IntegerLattice(M)\n",
    "    \n",
    "    L.BKZ(block_size=n)\n",
    "    #SVP=L.shortest_vector()#algorithm=\"pari\")\n",
    "    \n",
    "    return min(v.norm().n() for v in L.reduced_basis)#SVP.norm().n()\n",
    "\n",
    "def sNTRU_len(f,g,n):\n",
    "    f_sigma=Tsigma(f)\n",
    "    Tg=T(g)\n",
    "    s_bas=np.block([[f_sigma,Tg]])\n",
    "    \n",
    "    L=IntegerLattice(s_bas)\n",
    "    L.LLL()\n",
    "    #L.BKZ(block_size=np.floor(n/2))\n",
    "    #SVP=min(np.linalg.norm(v) for v in s_bas)\n",
    "    SVP=min(v.norm().n() for v in L.reduced_basis)\n",
    "    #SVP=L.shortest_vector().norm().n()\n",
    "    #SVP=L.shortest_vector(algorithm=\"pari\").norm().n()\n",
    "    \n",
    "    return SVP\n",
    "\n",
    "\n",
    "\n",
    "\n",
    "NUM=10\n",
    "\n",
    "Ps=[3,5,7,15,21]\n",
    "Qs=[4,8,16,32,64]\n",
    "Ns=[7,11,17,53, 97]\n",
    "Ds=[5,7,11,29,53]\n",
    "opt_len=[0]*len(Ns)\n",
    "for i in [-2,-1]:#range(len(Ns)):\n",
    "    q=Qs[i]\n",
    "    p=Ps[i]\n",
    "    n=Ns[i]\n",
    "    d=Ds[i]\n",
    "    print(\"n,d=\", n,d)\n",
    "    temp=[]\n",
    "    temp_len=[0]*NUM\n",
    "    for _ in range(NUM):\n",
    "        print(_)\n",
    "        h,h_inv,f_vec, g_vec=mat_keypair(n,d,q,p)\n",
    "        tl=sNTRU_len(f_vec,g_vec,n)#NTRU_len(h,n,d,q,p)\n",
    "        temp_len[_]=tl\n",
    "\n",
    "        temp+=[[h,h_inv,f_vec, g_vec]]\n",
    "        \n",
    "    indmax=np.argmax(temp_len)\n",
    "    opt_len[i]=temp_len[indmax]\n",
    "    optimal=np.asarray(temp[indmax])\n",
    "    #print(optimal[0].shape)\n",
    "    print(\"opt_l=%.3f\"%(temp_len[indmax]))\n",
    "    \n",
    "    np.savetxt(\"NTRU_opt_n%i_q%i_p%i_d%i.txt\"%(n,q,p,d), optimal,comments=\"#sLLL_lambda_1=%.2f\"%(temp_len[indmax]))\n",
    "    print(\"n,d=\", n,d, \"DONE\")\n",
    "    \n",
    "    \n",
    "#import matplotlib.pyplot as plt\n",
    "#plt.plot(Ns, opt_len)\n",
    "#plt.show()\n",
    "\n",
    "\n",
    "#opt_params=np.asarray([[Ns[i], Ds[i], opt_len[i]] for i in range(len(Ns))])\n",
    "#np.savetxt(\"NTRU_parameters_q%i_p%i_NUM%i.txt\"%(q,p,NUM), opt_params)"
   ]
  },
  {
   "cell_type": "code",
   "execution_count": 9,
   "id": "636f0423",
   "metadata": {},
   "outputs": [
    {
     "data": {
      "text/plain": [
       "215.285856479240"
      ]
     },
     "execution_count": 9,
     "metadata": {},
     "output_type": "execute_result"
    }
   ],
   "source": [
    "temp_len[indmax]"
   ]
  },
  {
   "cell_type": "code",
   "execution_count": null,
   "id": "8f5395e6",
   "metadata": {},
   "outputs": [],
   "source": [
    "pk,sk,pinv=That(h),Tsigma(f_vec), Tsigma(h_inv)"
   ]
  },
  {
   "cell_type": "code",
   "execution_count": null,
   "id": "c4bbd264",
   "metadata": {},
   "outputs": [],
   "source": [
    "rbalancedmod_ar(sk,5)"
   ]
  },
  {
   "cell_type": "code",
   "execution_count": null,
   "id": "3340235e",
   "metadata": {},
   "outputs": [],
   "source": [
    "rbalancedmod_ar(rbalancedmod_ar((sk@pk),256),5)"
   ]
  },
  {
   "cell_type": "code",
   "execution_count": null,
   "id": "6e091b7e",
   "metadata": {},
   "outputs": [],
   "source": [
    "n = 7\n",
    "d = 5\n",
    "q = 256\n",
    "\n",
    "for i in range(int(1e7)):\n",
    "    try:\n",
    "        f=1+7*randomdpoly(n,d-1)\n",
    "        fq=invertmodpowerof2(f,q,n)\n",
    "        print(\"SUCCESS\")\n",
    "        print(fq)\n",
    "        break\n",
    "    except:\n",
    "        pass\n",
    "\n",
    "print(f)\n",
    "#invertmodpowerof2(f,q,n)"
   ]
  },
  {
   "cell_type": "code",
   "execution_count": null,
   "id": "f828d70f",
   "metadata": {},
   "outputs": [],
   "source": []
  },
  {
   "cell_type": "code",
   "execution_count": null,
   "id": "d7ce4610",
   "metadata": {},
   "outputs": [],
   "source": [
    "h,h_inv,f_vec, g_vec=mat_keypair(n,d,q,7)\n",
    "pk,sk,pinv=That(h),Tsigma(f_vec), Tsigma(h_inv)"
   ]
  },
  {
   "cell_type": "code",
   "execution_count": null,
   "id": "ab50e085",
   "metadata": {},
   "outputs": [],
   "source": [
    "pk"
   ]
  },
  {
   "cell_type": "code",
   "execution_count": null,
   "id": "db18e383",
   "metadata": {},
   "outputs": [],
   "source": [
    "pinv"
   ]
  },
  {
   "cell_type": "code",
   "execution_count": null,
   "id": "634e7cfd",
   "metadata": {},
   "outputs": [],
   "source": [
    "sig_check=balancedmod_ar(pinv@pk,q)\n",
    "print(sig_check)"
   ]
  },
  {
   "cell_type": "code",
   "execution_count": null,
   "id": "f685fec2",
   "metadata": {},
   "outputs": [],
   "source": [
    "sk@pk"
   ]
  },
  {
   "cell_type": "code",
   "execution_count": null,
   "id": "d177fbaa",
   "metadata": {},
   "outputs": [],
   "source": [
    "balancedmod_ar(sk@pk, q)"
   ]
  },
  {
   "cell_type": "code",
   "execution_count": null,
   "id": "7e43956e",
   "metadata": {},
   "outputs": [],
   "source": [
    "def randomstring(n):\n",
    "    return 1-np.random.randint(3,size=n)\n",
    "\n",
    "def cipher(m,r,pk,n,q):\n",
    "    return balancedmod_ar(m+pk@r,q)\n",
    "\n",
    "m=randomstring(n)\n",
    "r=randomstring(n)\n",
    "print(\"m\")\n",
    "print(m)\n",
    "print(\"r\")\n",
    "print(r)\n",
    "c=cipher(m,r,pk,n,q)\n",
    "print(\"c\")\n",
    "print(c)"
   ]
  },
  {
   "cell_type": "code",
   "execution_count": null,
   "id": "ee2a9135",
   "metadata": {},
   "outputs": [],
   "source": [
    "a=balancedmod_ar(sk@c,q)\n",
    "print(a)"
   ]
  },
  {
   "cell_type": "code",
   "execution_count": null,
   "id": "5a849383",
   "metadata": {},
   "outputs": [],
   "source": [
    "amodp=balancedmod_ar(a,7)\n",
    "print(amodp)\n",
    "print(np.all(amodp==m))"
   ]
  },
  {
   "cell_type": "code",
   "execution_count": null,
   "id": "ef3b2424",
   "metadata": {},
   "outputs": [],
   "source": [
    "c-amodp"
   ]
  },
  {
   "cell_type": "code",
   "execution_count": null,
   "id": "33b6cbc8",
   "metadata": {},
   "outputs": [],
   "source": [
    "b=pinv@(c-amodp)\n",
    "print(np.all(sigma(balancedmod_ar(b,q))==r))"
   ]
  },
  {
   "cell_type": "code",
   "execution_count": null,
   "id": "a34e5d33",
   "metadata": {},
   "outputs": [],
   "source": [
    "def Jsym(n):\n",
    "    J1=np.asarray([[0,1],[-1,0]])\n",
    "    J=np.kron(J1,np.eye(n))\n",
    "    return J\n",
    "\n",
    "M=pub_basis(pk,q,n, 2)\n",
    "\n"
   ]
  },
  {
   "cell_type": "code",
   "execution_count": null,
   "id": "32afd8f9",
   "metadata": {},
   "outputs": [],
   "source": [
    "##test\n",
    "n = 7\n",
    "d = 5\n",
    "q = 256\n",
    "for tests in range(10):\n",
    "    publickey,secretkey = keypair(n,d,q)\n",
    "    m = randommessage(n)\n",
    "    c = encrypt(m,publickey,n,d)\n",
    "    print(c)\n",
    "    print(m== decrypt(c,secretkey))\n",
    "    \n",
    "def attack(publickey):\n",
    "    recip3 = lift(1/Integers(q)(3))\n",
    "    publickeyover3 = balancedmod(recip3 * publickey,q,n)\n",
    "    M = matrix(2 * n)\n",
    "    for i in range(n):\n",
    "        M[i,i] = q\n",
    "    for i in range(n):\n",
    "        M[i+n,i+n] = 1\n",
    "        c = convolution(x^i,publickeyover3,n)\n",
    "        for j in range(n):\n",
    "            M[i+n,j] = c[j]\n",
    "    M = M.LLL()\n",
    "    for j in range(2 * n):\n",
    "        try:\n",
    "            f = Zx(list(M[j][n:]))\n",
    "            f3 = invertmodprime(f,3,n)\n",
    "            return (f,f3)\n",
    "        except:\n",
    "            pass\n",
    "        return (f,f)\n",
    "    \n",
    "    \n",
    "def NTRUlattice(publickey,n,d,q,p):\n",
    "    #n,d,q=n,d,q\n",
    "    #publickey,secretkey = keypair(n,d,q)\n",
    "    recipp = lift(1/Integers(q)(p))\n",
    "    publickeyoverp = balancedmod(recipp * publickey,q,n)\n",
    "    \n",
    "    M = matrix(2 * n)\n",
    "    for i in range(n,2*n):\n",
    "        M[i,i] = q\n",
    "    for i in range(n):\n",
    "        M[i,i] = 1\n",
    "        c = convolution(x^(n-i),publickeyoverp,n)\n",
    "        for j in range(n):\n",
    "            M[i,j+n] = c[j]\n",
    "    \n",
    "    return M\n",
    "\n",
    "\n",
    "from sage.modules.free_module_integer import IntegerLattice\n",
    "\n",
    "def NTRU_len(publickey,n,d,q,p):\n",
    "    M=NTRUlattice(publickey,n,d,q,p)\n",
    "    L=IntegerLattice(M)\n",
    "    \n",
    "    SVP=L.shortest_vector(algorithm=\"pari\")\n",
    "    \n",
    "    return SVP.norm().n()"
   ]
  },
  {
   "cell_type": "code",
   "execution_count": null,
   "id": "262136d0",
   "metadata": {},
   "outputs": [],
   "source": [
    "NUM=8\n",
    "q=256\n",
    "d=4\n",
    "p=7\n",
    "\n",
    "Ns=[7,11,17,23,31]\n",
    "Ds=[5,7,11,17,23]\n",
    "opt_len=[0]*len(Ns)\n",
    "for i in range(len(Ns)):\n",
    "    n=Ns[i]\n",
    "    d=Ds[i]\n",
    "    print(\"n,d=\", n,d)\n",
    "    temp=[]\n",
    "    temp_len=[0]*NUM\n",
    "    for _ in range(NUM):\n",
    "        print(_)\n",
    "        h,h_inv,f_vec, g_vec=mat_keypair(n,d,q,p)\n",
    "        #print(\"lh=\",len(h))\n",
    "        tl=NTRU_len(h,n,d,q,p)\n",
    "        temp_len[_]=tl\n",
    "\n",
    "        temp+=[[h,h_inv,f_vec, g_vec]]\n",
    "        \n",
    "    indmax=np.argmax(temp_len)\n",
    "    opt_len[i]=temp_len[indmax]\n",
    "    optimal=np.asarray(temp[indmax])\n",
    "    #print(optimal[0].shape)\n",
    "    \n",
    "    np.savetxt(\"NTRU_opt_n%i_q%i_p%i_d%i.txt\"%(n,q,p,d), optimal)\n",
    "    print(\"n,d=\", n,d, \"DONE\")"
   ]
  },
  {
   "cell_type": "code",
   "execution_count": null,
   "id": "72a8e7e8",
   "metadata": {},
   "outputs": [],
   "source": [
    "import matplotlib.pyplot as plt\n",
    "plt.plot(Ns, opt_len)\n",
    "plt.show()\n"
   ]
  },
  {
   "cell_type": "code",
   "execution_count": null,
   "id": "aefc7ac6",
   "metadata": {},
   "outputs": [],
   "source": [
    "opt_params=np.asarray([[Ns[i], Ds[i], opt_len[i]] for i in [-1]])\n",
    "np.savetxt(\"NTRU_parameters_q%i_p%i_NUM%i.txt\"%(q,p,NUM), opt_params)"
   ]
  },
  {
   "cell_type": "code",
   "execution_count": null,
   "id": "34414857",
   "metadata": {},
   "outputs": [],
   "source": [
    "M=NTRUlattice(h,n,d,q)"
   ]
  },
  {
   "cell_type": "code",
   "execution_count": null,
   "id": "99f6e271",
   "metadata": {},
   "outputs": [],
   "source": []
  },
  {
   "cell_type": "code",
   "execution_count": null,
   "id": "41c0287f",
   "metadata": {},
   "outputs": [],
   "source": [
    "NTRU_len(h,n,d,q)"
   ]
  },
  {
   "cell_type": "code",
   "execution_count": null,
   "id": "e15fc1b0",
   "metadata": {},
   "outputs": [],
   "source": [
    "L=IntegerLattice(M)"
   ]
  },
  {
   "cell_type": "code",
   "execution_count": null,
   "id": "3eb7d26f",
   "metadata": {},
   "outputs": [],
   "source": [
    "L.shortest_vector(algorithm=\"pari\").norm().n()"
   ]
  },
  {
   "cell_type": "code",
   "execution_count": null,
   "id": "69457202",
   "metadata": {},
   "outputs": [],
   "source": [
    "np.sqrt(np.linalg.norm(f_vec)**2+np.linalg.norm(g_vec)**2)"
   ]
  },
  {
   "cell_type": "code",
   "execution_count": null,
   "id": "21ee5cd9",
   "metadata": {},
   "outputs": [],
   "source": [
    "n = 37\n",
    "d = 26\n",
    "q = 256\n",
    "M,s=randomNTRUlattice(n,d,q)"
   ]
  },
  {
   "cell_type": "code",
   "execution_count": null,
   "id": "447a2cde",
   "metadata": {},
   "outputs": [],
   "source": [
    "M"
   ]
  },
  {
   "cell_type": "code",
   "execution_count": null,
   "id": "8690a99f",
   "metadata": {},
   "outputs": [],
   "source": [
    "from sage.modules.free_module_integer import IntegerLattice\n",
    "L=IntegerLattice(M, lll_reduce=False)"
   ]
  },
  {
   "cell_type": "code",
   "execution_count": null,
   "id": "6939c518",
   "metadata": {},
   "outputs": [],
   "source": [
    "min(v.norm().n() for v in L.reduced_basis)"
   ]
  },
  {
   "cell_type": "code",
   "execution_count": null,
   "id": "ece0aad4",
   "metadata": {},
   "outputs": [],
   "source": [
    "L.LLL()\n",
    "min(v.norm().n() for v in L.reduced_basis)"
   ]
  },
  {
   "cell_type": "code",
   "execution_count": null,
   "id": "b278945e",
   "metadata": {},
   "outputs": [],
   "source": [
    "L.BKZ(block_size=n)\n",
    "print(min(v.norm().n() for v in L.reduced_basis))\n",
    "print(L.reduced_basis[0])\n",
    "print(L.reduced_basis[0].norm().n())"
   ]
  },
  {
   "cell_type": "code",
   "execution_count": null,
   "id": "2c7c27f7",
   "metadata": {},
   "outputs": [],
   "source": [
    "from fpylll import IntegerMatrix, SVP\n",
    "#M=matrix.identity(7)\n",
    "L = IntegerMatrix.from_matrix(M)\n",
    "w = vector(ZZ, SVP.shortest_vector(L))\n"
   ]
  },
  {
   "cell_type": "code",
   "execution_count": null,
   "id": "1805c4ee",
   "metadata": {},
   "outputs": [],
   "source": [
    "L=IntegerLattice(M, lll_reduce=True)"
   ]
  },
  {
   "cell_type": "code",
   "execution_count": null,
   "id": "83a6e161",
   "metadata": {},
   "outputs": [],
   "source": [
    "sage.crypto.gen_lattice(m=10, seed=42)"
   ]
  },
  {
   "cell_type": "code",
   "execution_count": null,
   "id": "9d3150c8",
   "metadata": {},
   "outputs": [],
   "source": [
    "from sage.modules.free_module_integer import IntegerLattice\n",
    "\n",
    "temp=[]\n",
    "for n in range(1,30):\n",
    "    #m=2*round(log(n,2).n())+1\n",
    "    q=2\n",
    "    print(n,q)\n",
    "    for num in range(20):\n",
    "        set_random_seed(num*n)\n",
    "        L=IntegerLattice(sage.crypto.gen_lattice(type='ideal',n=n,m=2*n, q=q, quotient=x^n-1))\n",
    "        SV_len=L.shortest_vector(algorithm=\"pari\").norm().n()\n",
    "        temp+=[(n,SV_len)]"
   ]
  },
  {
   "cell_type": "code",
   "execution_count": null,
   "id": "11e24b67",
   "metadata": {},
   "outputs": [],
   "source": [
    "for q in range(2,20):\n",
    "    temp=[]\n",
    "    nmax=10\n",
    "    for n in range(2,nmax):\n",
    "        print(n,q)\n",
    "        for num in range(10):\n",
    "            set_random_seed(num*n)\n",
    "            L=IntegerLattice(sage.crypto.gen_lattice(type='ideal',n=n,m=2*n, q=q, quotient=x^n-1))\n",
    "            SV_len=L.shortest_vector().norm().n()\n",
    "            temp+=[(n,SV_len)]\n",
    "            \n",
    "    g=scatter_plot(temp, alpha=0.5, markersize=10, axes_labels=[r'$n$', r'$\\lambda_1$'])+plot(sqrt(x*q/(pi*e)), (x,0,nmax))\n",
    "    g=g+text(r'$\\sqrt{\\frac{n q}{\\pi e}},\\, q=%i$'%(q), ((nmax+1),sqrt((nmax+1)*q/(pi*e)+0.1)))\n",
    "    g.show()\n",
    "    g.save('NTRU_samples_q%i.png'%(q))"
   ]
  },
  {
   "cell_type": "code",
   "execution_count": null,
   "id": "50ff8112",
   "metadata": {},
   "outputs": [],
   "source": [
    "temp"
   ]
  },
  {
   "cell_type": "code",
   "execution_count": null,
   "id": "32ac4ae0",
   "metadata": {},
   "outputs": [],
   "source": [
    "g=scatter_plot(temp, alpha=0.5, markersize=10, axes_labels=['$n$', '$\\lambda_1$'])+plot(sqrt(x*2/(pi*e)), (x,0,20))"
   ]
  },
  {
   "cell_type": "code",
   "execution_count": null,
   "id": "a5842f1b",
   "metadata": {},
   "outputs": [],
   "source": [
    "g=g+text(\"q=2\", (22,sqrt(22*2/(pi*e)+0.1)))"
   ]
  },
  {
   "cell_type": "code",
   "execution_count": null,
   "id": "ab3ee453",
   "metadata": {},
   "outputs": [],
   "source": [
    "g.show()"
   ]
  },
  {
   "cell_type": "code",
   "execution_count": null,
   "id": "f740a963",
   "metadata": {},
   "outputs": [],
   "source": [
    "q"
   ]
  },
  {
   "cell_type": "code",
   "execution_count": null,
   "id": "e59a53be",
   "metadata": {},
   "outputs": [],
   "source": [
    "round(log(17,2).n())"
   ]
  },
  {
   "cell_type": "code",
   "execution_count": null,
   "id": "91eec919",
   "metadata": {},
   "outputs": [],
   "source": []
  },
  {
   "cell_type": "code",
   "execution_count": null,
   "id": "3df75069",
   "metadata": {},
   "outputs": [],
   "source": []
  }
 ],
 "metadata": {
  "kernelspec": {
   "display_name": "SageMath 9.6",
   "language": "sage",
   "name": "sagemath"
  },
  "language_info": {
   "codemirror_mode": {
    "name": "ipython",
    "version": 3
   },
   "file_extension": ".py",
   "mimetype": "text/x-python",
   "name": "python",
   "nbconvert_exporter": "python",
   "pygments_lexer": "ipython3",
   "version": "3.9.12"
  }
 },
 "nbformat": 4,
 "nbformat_minor": 5
}
